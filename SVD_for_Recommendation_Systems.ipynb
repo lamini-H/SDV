{
  "nbformat": 4,
  "nbformat_minor": 0,
  "metadata": {
    "colab": {
      "provenance": [],
      "authorship_tag": "ABX9TyMsrIAoB9P6UkPoABLLp4DA",
      "include_colab_link": true
    },
    "kernelspec": {
      "name": "python3",
      "display_name": "Python 3"
    },
    "language_info": {
      "name": "python"
    }
  },
  "cells": [
    {
      "cell_type": "markdown",
      "metadata": {
        "id": "view-in-github",
        "colab_type": "text"
      },
      "source": [
        "<a href=\"https://colab.research.google.com/github/lamini-H/SDV/blob/main/SVD_for_Recommendation_Systems.ipynb\" target=\"_parent\"><img src=\"https://colab.research.google.com/assets/colab-badge.svg\" alt=\"Open In Colab\"/></a>"
      ]
    },
    {
      "cell_type": "markdown",
      "source": [
        "## Project Title\n",
        "*Using Singular Value Decomposition (SVD) for Recommendation Systems*\n",
        "\n",
        "## Introduction\n",
        "\n",
        "In today's digital world, recommendation systems are widely used across platforms such as Netflix, Amazon and Spotify to suggest relevant content to users. These systems aim to personalize user experience by predicting what a user might like based on past interactions.\n",
        "\n",
        "This project explores how **Singular Value Decomposition (SVD**), a mathematical matrix factorization technique, can be used to build a simple yet powerful **collaborative filtering recommendation system.**\n",
        "\n",
        "## Why SVD\n",
        "SVD is a dimensionality reduction technique that transforms a high-dimensional matrix (eg a user-item interaction matrix) into a set of latent features that capture the underlying structure in the data. It helps in\n",
        "\n",
        "*   Reducing data sparsity\n",
        "*   Removing noise\n",
        "*   Extracting hidden relationships between users and items\n",
        "\n",
        "By applying truncated SVD on a user-item rating matrix, we can:\n",
        "\n",
        "*   Predict **missing ratings** (ie, recommended new items)\n",
        "*   Identify **latent factors** influencing preferences\n",
        "\n",
        "## Project Objectives\n",
        "\n",
        "\n",
        "1.   **Mathetically explain** how SVD works\n",
        "2.   **Implement SVD in Python** using a simple ratings matrix\n",
        "3.   **Visualize the matrices** before and after applying SVD\n",
        "4.   **Reconstruct the matrix** using top k singular values and make predictions\n",
        "5.   **Evaluate** the quality of predictions using appropriate metrics\n",
        "6.   **Document references** for reproducibility and academic rigor\n",
        "\n",
        "\n",
        "\n",
        "\n",
        "\n",
        "\n",
        "\n",
        "\n",
        "\n",
        "\n",
        "\n"
      ],
      "metadata": {
        "id": "QfRFGuMUHfzQ"
      }
    },
    {
      "cell_type": "markdown",
      "source": [
        "## Step 1: Mathematical Explanation of SVD\n",
        "\n",
        "### Singular Value Decomposition (SVD)\n",
        "\n",
        "SVD is a matrix factorization technique that decomposeses a matrix A into three other matrice;\n",
        "\n",
        "$$A = U \\Sigma V^{\\mathsf{T}}$$\n",
        "\n",
        "\n",
        "### Where;\n",
        "$$\n",
        "\\begin{aligned}\n",
        "A &\\in \\mathbb{R}^{m \\times n} && \\text{original user-item matrix} \\\\\n",
        "U &\\in \\mathbb{R}^{m \\times m} && \\text{left singular vectors (users)} \\\\\n",
        "\\Sigma &\\in \\mathbb{R}^{m \\times n} && \\text{diagonal matrix of singular values} \\\\\n",
        "V^{\\mathsf{T}} &\\in \\mathbb{R}^{n \\times n} && \\text{right singular vectors (items)}\n",
        "\\end{aligned}\n",
        "$$\n",
        "\n",
        "\n",
        "### Properties\n",
        "*   U and V are orthogonal matrices.\n",
        "*   The singular values in Σ are sorted in descending order\n",
        "*   The top 𝐤 singular values capture most of the informaiton in the matrix\n",
        "\n",
        "### Use in Recommendation Systems\n",
        "*   Treat the user-item rating matrix as A\n",
        "*   Use truncated SVD (only top 𝐤  values) to reduce noise and capture latent features\n",
        "*   Reconstruct the matrix $$A_k = U_k \\Sigma_k V_k^{\\mathsf{T}}$$ for prediction\n",
        "\n",
        "\n"
      ],
      "metadata": {
        "id": "sqc81uhVHJAL"
      }
    },
    {
      "cell_type": "markdown",
      "source": [
        "## Step 2: Dataset & Problem Setup\n",
        "To make the project more realistic, we used MovieLens 100K a very popular and clean dataset used for recommnender system projects. It contains\n",
        "*   100,000 ratings (1 -5)\n",
        "*   943 users\n",
        "*   1,682 movies\n",
        "*   Preprocessed and ready-to-use in CSV format\n",
        "\n",
        "\n",
        "\n",
        "\n"
      ],
      "metadata": {
        "id": "pTMwtt5tbePt"
      }
    },
    {
      "cell_type": "markdown",
      "source": [
        "### Load the MovieLens 100K dataset"
      ],
      "metadata": {
        "id": "_udfw4qCd13v"
      }
    },
    {
      "cell_type": "code",
      "execution_count": null,
      "metadata": {
        "colab": {
          "base_uri": "https://localhost:8080/"
        },
        "id": "oVtNISbnHALw",
        "outputId": "9b4c920c-c894-4c42-ccc8-837c167ad4fa"
      },
      "outputs": [
        {
          "output_type": "stream",
          "name": "stdout",
          "text": [
            "--2025-05-16 00:18:50--  https://files.grouplens.org/datasets/movielens/ml-100k.zip\n",
            "Resolving files.grouplens.org (files.grouplens.org)... 128.101.65.152\n",
            "Connecting to files.grouplens.org (files.grouplens.org)|128.101.65.152|:443... connected.\n",
            "HTTP request sent, awaiting response... 200 OK\n",
            "Length: 4924029 (4.7M) [application/zip]\n",
            "Saving to: ‘ml-100k.zip’\n",
            "\n",
            "ml-100k.zip         100%[===================>]   4.70M  20.1MB/s    in 0.2s    \n",
            "\n",
            "2025-05-16 00:18:50 (20.1 MB/s) - ‘ml-100k.zip’ saved [4924029/4924029]\n",
            "\n"
          ]
        }
      ],
      "source": [
        "# Download the MovieLens 100K dataset\n",
        "!wget https://files.grouplens.org/datasets/movielens/ml-100k.zip\n",
        "!unzip -q ml-100k.zip\n",
        "\n"
      ]
    },
    {
      "cell_type": "code",
      "source": [
        "# Load the data into a DataFrame\n",
        "import pandas as pd"
      ],
      "metadata": {
        "id": "1ALhQZd2dTpJ"
      },
      "execution_count": null,
      "outputs": []
    },
    {
      "cell_type": "code",
      "source": [
        "# u.data contains tab-separated values: user_id, item_id, rating, timestamp\n",
        "column_names = ['user_id', 'item_id', 'rating', 'timestamp']\n",
        "ratings_df = pd.read_csv('ml-100k/u.data', sep='\\t', names=column_names)\n",
        "\n",
        "ratings_df.head()"
      ],
      "metadata": {
        "colab": {
          "base_uri": "https://localhost:8080/",
          "height": 206
        },
        "id": "4NrYurlDdbJZ",
        "outputId": "f177cdaa-e60c-4ec5-e90e-9b11e0c252df"
      },
      "execution_count": null,
      "outputs": [
        {
          "output_type": "execute_result",
          "data": {
            "text/plain": [
              "   user_id  item_id  rating  timestamp\n",
              "0      196      242       3  881250949\n",
              "1      186      302       3  891717742\n",
              "2       22      377       1  878887116\n",
              "3      244       51       2  880606923\n",
              "4      166      346       1  886397596"
            ],
            "text/html": [
              "\n",
              "  <div id=\"df-fabde78d-f846-46f2-8a7b-e1155ee52f3c\" class=\"colab-df-container\">\n",
              "    <div>\n",
              "<style scoped>\n",
              "    .dataframe tbody tr th:only-of-type {\n",
              "        vertical-align: middle;\n",
              "    }\n",
              "\n",
              "    .dataframe tbody tr th {\n",
              "        vertical-align: top;\n",
              "    }\n",
              "\n",
              "    .dataframe thead th {\n",
              "        text-align: right;\n",
              "    }\n",
              "</style>\n",
              "<table border=\"1\" class=\"dataframe\">\n",
              "  <thead>\n",
              "    <tr style=\"text-align: right;\">\n",
              "      <th></th>\n",
              "      <th>user_id</th>\n",
              "      <th>item_id</th>\n",
              "      <th>rating</th>\n",
              "      <th>timestamp</th>\n",
              "    </tr>\n",
              "  </thead>\n",
              "  <tbody>\n",
              "    <tr>\n",
              "      <th>0</th>\n",
              "      <td>196</td>\n",
              "      <td>242</td>\n",
              "      <td>3</td>\n",
              "      <td>881250949</td>\n",
              "    </tr>\n",
              "    <tr>\n",
              "      <th>1</th>\n",
              "      <td>186</td>\n",
              "      <td>302</td>\n",
              "      <td>3</td>\n",
              "      <td>891717742</td>\n",
              "    </tr>\n",
              "    <tr>\n",
              "      <th>2</th>\n",
              "      <td>22</td>\n",
              "      <td>377</td>\n",
              "      <td>1</td>\n",
              "      <td>878887116</td>\n",
              "    </tr>\n",
              "    <tr>\n",
              "      <th>3</th>\n",
              "      <td>244</td>\n",
              "      <td>51</td>\n",
              "      <td>2</td>\n",
              "      <td>880606923</td>\n",
              "    </tr>\n",
              "    <tr>\n",
              "      <th>4</th>\n",
              "      <td>166</td>\n",
              "      <td>346</td>\n",
              "      <td>1</td>\n",
              "      <td>886397596</td>\n",
              "    </tr>\n",
              "  </tbody>\n",
              "</table>\n",
              "</div>\n",
              "    <div class=\"colab-df-buttons\">\n",
              "\n",
              "  <div class=\"colab-df-container\">\n",
              "    <button class=\"colab-df-convert\" onclick=\"convertToInteractive('df-fabde78d-f846-46f2-8a7b-e1155ee52f3c')\"\n",
              "            title=\"Convert this dataframe to an interactive table.\"\n",
              "            style=\"display:none;\">\n",
              "\n",
              "  <svg xmlns=\"http://www.w3.org/2000/svg\" height=\"24px\" viewBox=\"0 -960 960 960\">\n",
              "    <path d=\"M120-120v-720h720v720H120Zm60-500h600v-160H180v160Zm220 220h160v-160H400v160Zm0 220h160v-160H400v160ZM180-400h160v-160H180v160Zm440 0h160v-160H620v160ZM180-180h160v-160H180v160Zm440 0h160v-160H620v160Z\"/>\n",
              "  </svg>\n",
              "    </button>\n",
              "\n",
              "  <style>\n",
              "    .colab-df-container {\n",
              "      display:flex;\n",
              "      gap: 12px;\n",
              "    }\n",
              "\n",
              "    .colab-df-convert {\n",
              "      background-color: #E8F0FE;\n",
              "      border: none;\n",
              "      border-radius: 50%;\n",
              "      cursor: pointer;\n",
              "      display: none;\n",
              "      fill: #1967D2;\n",
              "      height: 32px;\n",
              "      padding: 0 0 0 0;\n",
              "      width: 32px;\n",
              "    }\n",
              "\n",
              "    .colab-df-convert:hover {\n",
              "      background-color: #E2EBFA;\n",
              "      box-shadow: 0px 1px 2px rgba(60, 64, 67, 0.3), 0px 1px 3px 1px rgba(60, 64, 67, 0.15);\n",
              "      fill: #174EA6;\n",
              "    }\n",
              "\n",
              "    .colab-df-buttons div {\n",
              "      margin-bottom: 4px;\n",
              "    }\n",
              "\n",
              "    [theme=dark] .colab-df-convert {\n",
              "      background-color: #3B4455;\n",
              "      fill: #D2E3FC;\n",
              "    }\n",
              "\n",
              "    [theme=dark] .colab-df-convert:hover {\n",
              "      background-color: #434B5C;\n",
              "      box-shadow: 0px 1px 3px 1px rgba(0, 0, 0, 0.15);\n",
              "      filter: drop-shadow(0px 1px 2px rgba(0, 0, 0, 0.3));\n",
              "      fill: #FFFFFF;\n",
              "    }\n",
              "  </style>\n",
              "\n",
              "    <script>\n",
              "      const buttonEl =\n",
              "        document.querySelector('#df-fabde78d-f846-46f2-8a7b-e1155ee52f3c button.colab-df-convert');\n",
              "      buttonEl.style.display =\n",
              "        google.colab.kernel.accessAllowed ? 'block' : 'none';\n",
              "\n",
              "      async function convertToInteractive(key) {\n",
              "        const element = document.querySelector('#df-fabde78d-f846-46f2-8a7b-e1155ee52f3c');\n",
              "        const dataTable =\n",
              "          await google.colab.kernel.invokeFunction('convertToInteractive',\n",
              "                                                    [key], {});\n",
              "        if (!dataTable) return;\n",
              "\n",
              "        const docLinkHtml = 'Like what you see? Visit the ' +\n",
              "          '<a target=\"_blank\" href=https://colab.research.google.com/notebooks/data_table.ipynb>data table notebook</a>'\n",
              "          + ' to learn more about interactive tables.';\n",
              "        element.innerHTML = '';\n",
              "        dataTable['output_type'] = 'display_data';\n",
              "        await google.colab.output.renderOutput(dataTable, element);\n",
              "        const docLink = document.createElement('div');\n",
              "        docLink.innerHTML = docLinkHtml;\n",
              "        element.appendChild(docLink);\n",
              "      }\n",
              "    </script>\n",
              "  </div>\n",
              "\n",
              "\n",
              "    <div id=\"df-cc489db1-d0b2-4ec5-aa10-72ce3e1cbb92\">\n",
              "      <button class=\"colab-df-quickchart\" onclick=\"quickchart('df-cc489db1-d0b2-4ec5-aa10-72ce3e1cbb92')\"\n",
              "                title=\"Suggest charts\"\n",
              "                style=\"display:none;\">\n",
              "\n",
              "<svg xmlns=\"http://www.w3.org/2000/svg\" height=\"24px\"viewBox=\"0 0 24 24\"\n",
              "     width=\"24px\">\n",
              "    <g>\n",
              "        <path d=\"M19 3H5c-1.1 0-2 .9-2 2v14c0 1.1.9 2 2 2h14c1.1 0 2-.9 2-2V5c0-1.1-.9-2-2-2zM9 17H7v-7h2v7zm4 0h-2V7h2v10zm4 0h-2v-4h2v4z\"/>\n",
              "    </g>\n",
              "</svg>\n",
              "      </button>\n",
              "\n",
              "<style>\n",
              "  .colab-df-quickchart {\n",
              "      --bg-color: #E8F0FE;\n",
              "      --fill-color: #1967D2;\n",
              "      --hover-bg-color: #E2EBFA;\n",
              "      --hover-fill-color: #174EA6;\n",
              "      --disabled-fill-color: #AAA;\n",
              "      --disabled-bg-color: #DDD;\n",
              "  }\n",
              "\n",
              "  [theme=dark] .colab-df-quickchart {\n",
              "      --bg-color: #3B4455;\n",
              "      --fill-color: #D2E3FC;\n",
              "      --hover-bg-color: #434B5C;\n",
              "      --hover-fill-color: #FFFFFF;\n",
              "      --disabled-bg-color: #3B4455;\n",
              "      --disabled-fill-color: #666;\n",
              "  }\n",
              "\n",
              "  .colab-df-quickchart {\n",
              "    background-color: var(--bg-color);\n",
              "    border: none;\n",
              "    border-radius: 50%;\n",
              "    cursor: pointer;\n",
              "    display: none;\n",
              "    fill: var(--fill-color);\n",
              "    height: 32px;\n",
              "    padding: 0;\n",
              "    width: 32px;\n",
              "  }\n",
              "\n",
              "  .colab-df-quickchart:hover {\n",
              "    background-color: var(--hover-bg-color);\n",
              "    box-shadow: 0 1px 2px rgba(60, 64, 67, 0.3), 0 1px 3px 1px rgba(60, 64, 67, 0.15);\n",
              "    fill: var(--button-hover-fill-color);\n",
              "  }\n",
              "\n",
              "  .colab-df-quickchart-complete:disabled,\n",
              "  .colab-df-quickchart-complete:disabled:hover {\n",
              "    background-color: var(--disabled-bg-color);\n",
              "    fill: var(--disabled-fill-color);\n",
              "    box-shadow: none;\n",
              "  }\n",
              "\n",
              "  .colab-df-spinner {\n",
              "    border: 2px solid var(--fill-color);\n",
              "    border-color: transparent;\n",
              "    border-bottom-color: var(--fill-color);\n",
              "    animation:\n",
              "      spin 1s steps(1) infinite;\n",
              "  }\n",
              "\n",
              "  @keyframes spin {\n",
              "    0% {\n",
              "      border-color: transparent;\n",
              "      border-bottom-color: var(--fill-color);\n",
              "      border-left-color: var(--fill-color);\n",
              "    }\n",
              "    20% {\n",
              "      border-color: transparent;\n",
              "      border-left-color: var(--fill-color);\n",
              "      border-top-color: var(--fill-color);\n",
              "    }\n",
              "    30% {\n",
              "      border-color: transparent;\n",
              "      border-left-color: var(--fill-color);\n",
              "      border-top-color: var(--fill-color);\n",
              "      border-right-color: var(--fill-color);\n",
              "    }\n",
              "    40% {\n",
              "      border-color: transparent;\n",
              "      border-right-color: var(--fill-color);\n",
              "      border-top-color: var(--fill-color);\n",
              "    }\n",
              "    60% {\n",
              "      border-color: transparent;\n",
              "      border-right-color: var(--fill-color);\n",
              "    }\n",
              "    80% {\n",
              "      border-color: transparent;\n",
              "      border-right-color: var(--fill-color);\n",
              "      border-bottom-color: var(--fill-color);\n",
              "    }\n",
              "    90% {\n",
              "      border-color: transparent;\n",
              "      border-bottom-color: var(--fill-color);\n",
              "    }\n",
              "  }\n",
              "</style>\n",
              "\n",
              "      <script>\n",
              "        async function quickchart(key) {\n",
              "          const quickchartButtonEl =\n",
              "            document.querySelector('#' + key + ' button');\n",
              "          quickchartButtonEl.disabled = true;  // To prevent multiple clicks.\n",
              "          quickchartButtonEl.classList.add('colab-df-spinner');\n",
              "          try {\n",
              "            const charts = await google.colab.kernel.invokeFunction(\n",
              "                'suggestCharts', [key], {});\n",
              "          } catch (error) {\n",
              "            console.error('Error during call to suggestCharts:', error);\n",
              "          }\n",
              "          quickchartButtonEl.classList.remove('colab-df-spinner');\n",
              "          quickchartButtonEl.classList.add('colab-df-quickchart-complete');\n",
              "        }\n",
              "        (() => {\n",
              "          let quickchartButtonEl =\n",
              "            document.querySelector('#df-cc489db1-d0b2-4ec5-aa10-72ce3e1cbb92 button');\n",
              "          quickchartButtonEl.style.display =\n",
              "            google.colab.kernel.accessAllowed ? 'block' : 'none';\n",
              "        })();\n",
              "      </script>\n",
              "    </div>\n",
              "\n",
              "    </div>\n",
              "  </div>\n"
            ],
            "application/vnd.google.colaboratory.intrinsic+json": {
              "type": "dataframe",
              "variable_name": "ratings_df",
              "summary": "{\n  \"name\": \"ratings_df\",\n  \"rows\": 100000,\n  \"fields\": [\n    {\n      \"column\": \"user_id\",\n      \"properties\": {\n        \"dtype\": \"number\",\n        \"std\": 266,\n        \"min\": 1,\n        \"max\": 943,\n        \"num_unique_values\": 943,\n        \"samples\": [\n          262,\n          136,\n          821\n        ],\n        \"semantic_type\": \"\",\n        \"description\": \"\"\n      }\n    },\n    {\n      \"column\": \"item_id\",\n      \"properties\": {\n        \"dtype\": \"number\",\n        \"std\": 330,\n        \"min\": 1,\n        \"max\": 1682,\n        \"num_unique_values\": 1682,\n        \"samples\": [\n          1557,\n          808,\n          1618\n        ],\n        \"semantic_type\": \"\",\n        \"description\": \"\"\n      }\n    },\n    {\n      \"column\": \"rating\",\n      \"properties\": {\n        \"dtype\": \"number\",\n        \"std\": 1,\n        \"min\": 1,\n        \"max\": 5,\n        \"num_unique_values\": 5,\n        \"samples\": [\n          1,\n          5,\n          2\n        ],\n        \"semantic_type\": \"\",\n        \"description\": \"\"\n      }\n    },\n    {\n      \"column\": \"timestamp\",\n      \"properties\": {\n        \"dtype\": \"number\",\n        \"std\": 5343856,\n        \"min\": 874724710,\n        \"max\": 893286638,\n        \"num_unique_values\": 49282,\n        \"samples\": [\n          889728713,\n          888443306,\n          880605158\n        ],\n        \"semantic_type\": \"\",\n        \"description\": \"\"\n      }\n    }\n  ]\n}"
            }
          },
          "metadata": {},
          "execution_count": 3
        }
      ]
    },
    {
      "cell_type": "markdown",
      "source": [
        "### Create a User-Item Matrix\n",
        "We need to pivot the ratings into a user-item matrix (rows = users, columns = items, values = ratings):"
      ],
      "metadata": {
        "id": "9T06RGJ2dpcl"
      }
    },
    {
      "cell_type": "code",
      "source": [
        "# Pivot to get user-item matrix\n",
        "user_item_matrix = ratings_df.pivot_table(index='user_id', columns='item_id', values='rating').fillna(0)\n",
        "\n",
        "# Convert to numpy array for SVD\n",
        "R = user_item_matrix.values\n",
        "\n",
        "# Check shape\n",
        "R.shape\n",
        "\n",
        "#R the full rating matrix (users x items)"
      ],
      "metadata": {
        "colab": {
          "base_uri": "https://localhost:8080/"
        },
        "id": "KjnTJ4NedcEY",
        "outputId": "4a142227-5d45-4bcb-e552-399a0af965b5"
      },
      "execution_count": null,
      "outputs": [
        {
          "output_type": "execute_result",
          "data": {
            "text/plain": [
              "(943, 1682)"
            ]
          },
          "metadata": {},
          "execution_count": 5
        }
      ]
    },
    {
      "cell_type": "markdown",
      "source": [
        "### Visualize Sparsity of the User-Item Matrix\n",
        "Here matplotlib and seaborn is used to plot the matrix and hightlight where ratings are present."
      ],
      "metadata": {
        "id": "vxiPq6GQetqp"
      }
    },
    {
      "cell_type": "code",
      "source": [
        "import matplotlib.pyplot as plt\n",
        "import seaborn as sns\n",
        "\n",
        "# Create a binary matrix where 1 = rating present, 0 = no rating\n",
        "sparsity_matrix = (R > 0).astype(int)\n",
        "\n",
        "plt.figure(figsize=(12, 6))\n",
        "sns.heatmap(sparsity_matrix, cbar=False, cmap='Greys', xticklabels=False, yticklabels=False)\n",
        "plt.title('Sparsity Pattern of User-Item Matrix (1 = Rating Present, 0 = Missing)', fontsize=14)\n",
        "plt.xlabel('Items')\n",
        "plt.ylabel('Users')\n",
        "plt.show()\n"
      ],
      "metadata": {
        "colab": {
          "base_uri": "https://localhost:8080/",
          "height": 541
        },
        "id": "mPMSZ9sKes0N",
        "outputId": "92f69941-10a6-4e34-fee6-5674c5e7f8cc"
      },
      "execution_count": null,
      "outputs": [
        {
          "output_type": "display_data",
          "data": {
            "text/plain": [
              "<Figure size 1200x600 with 1 Axes>"
            ],
            "image/png": "[encoded data removed]"
          },
          "metadata": {}
        }
      ]
    },
    {
      "cell_type": "markdown",
      "source": [
        "Since the sparsity plot is dense and hard to interpret because the MovieLens matrix is quite large, I sampled randomly top 30 users with the most ratings and Top 30 items most rated"
      ],
      "metadata": {
        "id": "LU1_qOmzg2wM"
      }
    },
    {
      "cell_type": "code",
      "source": [
        "# Find top users and items with the most ratings\n",
        "top_users = ratings_df['user_id'].value_counts().head(30).index\n",
        "top_items = ratings_df['item_id'].value_counts().head(30).index\n",
        "\n",
        "# Filter the dataset\n",
        "filtered_df = ratings_df[ratings_df['user_id'].isin(top_users) & ratings_df['item_id'].isin(top_items)]\n",
        "\n",
        "# Create the reduced user-item matrix\n",
        "small_matrix = filtered_df.pivot_table(index='user_id', columns='item_id', values='rating').fillna(0)\n",
        "R_small = small_matrix.values\n",
        "\n",
        "# Plot sparsity again\n",
        "sparsity_small = (R_small > 0).astype(int)\n",
        "\n",
        "plt.figure(figsize=(10, 6))\n",
        "sns.heatmap(sparsity_small, cbar=False, cmap='Greys', xticklabels=False, yticklabels=False)\n",
        "plt.title('Sparsity Pattern of Reduced User-Item Matrix', fontsize=14)\n",
        "plt.xlabel('Items')\n",
        "plt.ylabel('Users')\n",
        "plt.show()\n",
        "\n",
        "# Also show the shape\n",
        "print(\"Reduced matrix shape:\", R_small.shape)\n"
      ],
      "metadata": {
        "colab": {
          "base_uri": "https://localhost:8080/",
          "height": 558
        },
        "id": "JFmNMETDeTGH",
        "outputId": "c7266f78-5c69-4842-ec2d-60313f0f01f9"
      },
      "execution_count": null,
      "outputs": [
        {
          "output_type": "display_data",
          "data": {
            "text/plain": [
              "<Figure size 1000x600 with 1 Axes>"
            ],
            "image/png": "[encoded data removed]"
          },
          "metadata": {}
        },
        {
          "output_type": "stream",
          "name": "stdout",
          "text": [
            "Reduced matrix shape: (30, 30)\n"
          ]
        }
      ]
    },
    {
      "cell_type": "markdown",
      "source": [
        "From the reduced graph we can clearly see,\n",
        "\n",
        "\n",
        "*   White squares which shows ratings are presents\n",
        "*   Black squares are missing entries\n",
        "\n"
      ],
      "metadata": {
        "id": "lFO8ynkyhmk5"
      }
    },
    {
      "cell_type": "markdown",
      "source": [
        "# Step 3: Apply\n",
        "In this section I will try to perform the following task\n",
        "*  Explanation of SVD and Truncation\n",
        "*  Implement SVD decomposition\n",
        "*  Choose a smal k value for truncation\n",
        "*  Reconstruct the matrix\n",
        "*  Visualize the compare original vs reconstructed"
      ],
      "metadata": {
        "id": "67ZsUmLBm-NC"
      }
    },
    {
      "cell_type": "markdown",
      "source": [
        "## Explanation of SVD and Truncation\n",
        "Let's assume we have a user-item matrix\n",
        "$$R \\in \\mathbb{R}^{m \\times n}$$\n",
        "\n",
        "where;\n",
        "*   m = number of users\n",
        "*   n = number of items\n",
        "*   Aij is the rating user i gave to item j\n",
        "\n",
        "### Singular Value Decomposition (SVD)\n",
        "\n",
        "The SVD of matrix R is:\n",
        "\n",
        "$$R = U \\Sigma V^{\\mathsf{T}}$$\n",
        "\n",
        "\n",
        "### Where;\n",
        "$$\n",
        "\\begin{aligned}\n",
        "U &\\in \\mathbb{R}^{m \\times m} && \\text{is the left singular matrix (users -> latent features)} \\\\\n",
        "\\Sigma &\\in \\mathbb{R}^{m \\times n} && \\text{is a diagonal matrix of singular values (strength of each latent feature)} \\\\\n",
        "V^{\\mathsf{T}} &\\in \\mathbb{R}^{n \\times n} && \\text{is the right singular matrix (items -> latent features)}\n",
        "\\end{aligned}\n",
        "$$\n",
        "\n",
        "###  Truncated SVD (Dimensionality Reduction)\n",
        "We truncate the SVD to keep only the top k components (usually k << min(m,n)):\n",
        "$$R_k = U_k \\Sigma_k V_k^{\\mathsf{T}}$$\n",
        "\n",
        "where;\n",
        "\n",
        "$$U_k \\in \\mathbb{R}^{m \\times k}$$  \n",
        "\n",
        "$$\\Sigma_k \\in \\mathbb{R}^{k \\times k}$$  \n",
        "\n",
        "$$V_k^{\\mathsf{T}} \\in \\mathbb{R}^{k \\times n}$$  \n",
        "\n",
        "\n",
        "This gives a low-rank approximation of the original matrix R, capturing most of its patterns with fewer dimensions\n",
        "\n",
        "SVD there helps to\n",
        "\n",
        "\n",
        "*   Compress the matrix into latent features\n",
        "*   Predict missing ratings (ie fill in the 0s) by reconstructing the matrix\n",
        "*   Capture relationships like \" users similar in taste\" or \"items that are alike\"\n",
        "\n"
      ],
      "metadata": {
        "id": "uGDDkhujgAOv"
      }
    },
    {
      "cell_type": "markdown",
      "source": [
        "## Apply SVD and Reconstruct the Matrix\n",
        "we are using the reduced user-item matrix"
      ],
      "metadata": {
        "id": "0IzOzOO1qvkT"
      }
    },
    {
      "cell_type": "code",
      "source": [
        "import numpy as np\n",
        "\n",
        "# R_small is the reduced user-item matrix\n",
        "print(\"Original matrix shape:\", R_small.shape)\n",
        "\n",
        "# Step 1: Apply full SVD\n",
        "U, sigma, Vt = np.linalg.svd(R_small, full_matrices=False)\n",
        "\n",
        "# Step 2: Convert sigma (1D array) to diagonal matrix\n",
        "Sigma = np.diag(sigma)\n",
        "\n",
        "# Step 3: Choose number of components (e.g., k = 5)\n",
        "k = 5\n",
        "U_k = U[:, :k]\n",
        "Sigma_k = Sigma[:k, :k]\n",
        "Vt_k = Vt[:k, :]\n",
        "\n",
        "# Step 4: Reconstruct the matrix with k components\n",
        "R_approx = np.dot(np.dot(U_k, Sigma_k), Vt_k)\n",
        "\n",
        "# Step 5: Show original vs reconstructed matrix (first 5x5 for clarity)\n",
        "print(\"\\nOriginal (partial):\\n\", np.round(R_small[:5, :5], 2))\n",
        "print(\"\\nReconstructed (partial):\\n\", np.round(R_approx[:5, :5], 2))\n"
      ],
      "metadata": {
        "colab": {
          "base_uri": "https://localhost:8080/"
        },
        "id": "6wqCHsK0pRCH",
        "outputId": "f9282e70-1464-4c1c-c25a-73178a20658e"
      },
      "execution_count": null,
      "outputs": [
        {
          "output_type": "stream",
          "name": "stdout",
          "text": [
            "Original matrix shape: (30, 30)\n",
            "\n",
            "Original (partial):\n",
            " [[0. 5. 5. 5. 5.]\n",
            " [3. 2. 5. 5. 4.]\n",
            " [2. 4. 5. 5. 5.]\n",
            " [4. 4. 5. 5. 5.]\n",
            " [4. 4. 5. 5. 3.]]\n",
            "\n",
            "Reconstructed (partial):\n",
            " [[2.82 4.08 4.61 5.39 3.52]\n",
            " [2.95 2.45 4.74 3.87 4.38]\n",
            " [2.92 4.58 5.57 5.43 4.12]\n",
            " [4.18 3.86 4.9  3.28 4.21]\n",
            " [3.02 4.54 4.73 4.93 3.38]]\n"
          ]
        }
      ]
    },
    {
      "cell_type": "markdown",
      "source": [
        "#### Interpretation\n",
        "\n",
        "*   `U_k, Sigma_k` and `Vt_k` represent the compressed latent space\n",
        "*   `R_approx` is the predicted matrix - it fills in previously missing values (zeros) based on patterns\n",
        "\n",
        "\n"
      ],
      "metadata": {
        "id": "bQgCPW-Br-Rk"
      }
    },
    {
      "cell_type": "markdown",
      "source": [
        "## Visualize the Reconstructed Matrix\n",
        "let compare the original reduced matrix(with missing values =0) and the reconstructed matrix (with SVD-filled predictions)\n"
      ],
      "metadata": {
        "id": "qMbSg-NIvfsP"
      }
    },
    {
      "cell_type": "code",
      "source": [
        "plt.figure(figsize=(14, 5))\n",
        "\n",
        "# Original matrix heatmap\n",
        "plt.subplot(1, 2, 1)\n",
        "sns.heatmap(R_small, cmap='YlGnBu', cbar=True, xticklabels=False, yticklabels=False)\n",
        "plt.title('Original Matrix (Reduced)')\n",
        "\n",
        "# Reconstructed matrix heatmap\n",
        "plt.subplot(1, 2, 2)\n",
        "sns.heatmap(R_approx, cmap='YlGnBu', cbar=True, xticklabels=False, yticklabels=False)\n",
        "plt.title(f'Reconstructed Matrix (k={k})')\n",
        "\n",
        "plt.tight_layout()\n",
        "plt.show()\n"
      ],
      "metadata": {
        "colab": {
          "base_uri": "https://localhost:8080/",
          "height": 506
        },
        "id": "aBWLvFkerKRI",
        "outputId": "077b4067-f712-4ec8-82bb-25903d695fd5"
      },
      "execution_count": null,
      "outputs": [
        {
          "output_type": "display_data",
          "data": {
            "text/plain": [
              "<Figure size 1400x500 with 4 Axes>"
            ],
            "image/png": "[encoded data removed]"
          },
          "metadata": {}
        }
      ]
    },
    {
      "cell_type": "markdown",
      "source": [
        "#### Interpretation\n",
        "\n",
        "*  **Left:** Sparse original matrix (zeros = missing ratings).\n",
        "*   **Right:** Densified matrix filled in with SVD-based predictions.\n"
      ],
      "metadata": {
        "id": "LTCiaZ-fuYao"
      }
    },
    {
      "cell_type": "markdown",
      "source": [
        "#### Visualize the Reconstructed Matrix\n",
        "\n",
        "We'll compute:\n",
        "    Error Matrix = $R_{original}$ - $R_{reconstruted}$"
      ],
      "metadata": {
        "id": "N81agL6yt1mJ"
      }
    },
    {
      "cell_type": "code",
      "source": [
        "# Compute absolute error (only where ratings were originally present)\n",
        "error_matrix = np.abs(R_small - R_approx)\n",
        "\n",
        "plt.figure(figsize=(7, 5))\n",
        "sns.heatmap(error_matrix, cmap='Reds', xticklabels=False, yticklabels=False, cbar=True)\n",
        "plt.title(f'Absolute Reconstruction Error (k={k})')\n",
        "plt.xlabel(\"Items\")\n",
        "plt.ylabel(\"Users\")\n",
        "plt.show()\n",
        "\n",
        "# Optional: Print some error stats\n",
        "print(\"Max error:\", np.max(error_matrix))\n",
        "print(\"Mean error (non-zero):\", np.mean(error_matrix[R_small != 0]))\n"
      ],
      "metadata": {
        "colab": {
          "base_uri": "https://localhost:8080/",
          "height": 498
        },
        "id": "s4QLeajHtP7C",
        "outputId": "af91cc45-5160-4ea3-c6d0-02663b88e306"
      },
      "execution_count": null,
      "outputs": [
        {
          "output_type": "display_data",
          "data": {
            "text/plain": [
              "<Figure size 700x500 with 2 Axes>"
            ],
            "image/png": "[encoded data removed]"
          },
          "metadata": {}
        },
        {
          "output_type": "stream",
          "name": "stdout",
          "text": [
            "Max error: 3.83901779563302\n",
            "Mean error (non-zero): 0.6206857733809719\n"
          ]
        }
      ]
    },
    {
      "cell_type": "markdown",
      "source": [
        "#### Interpretation\n",
        "\n",
        "*  **Bright red areas:**high reconstruction error\n",
        "*   **Dark areas** good match between actual and predicted"
      ],
      "metadata": {
        "id": "9tsAqlFpuwXs"
      }
    },
    {
      "cell_type": "markdown",
      "source": [
        "## Step 4: Predict Ratings for a Specific User\n",
        "We’ll pick a user from the reduced matrix and:\n",
        "\n",
        "*   Predict their ratings using the reconstructed matrix.\n",
        "*   Recommend unrated items with the highest predicted scores.\n",
        "\n",
        "\n",
        "\n"
      ],
      "metadata": {
        "id": "Jf1NBkpDvmg6"
      }
    },
    {
      "cell_type": "code",
      "source": [
        "# Pick a user index (0 to R_small.shape[0] - 1)\n",
        "user_index = 0\n",
        "\n",
        "# Get actual and predicted ratings for that user\n",
        "actual_ratings = R_small[user_index]\n",
        "predicted_ratings = R_approx[user_index]\n",
        "\n",
        "# Find indices of items the user has NOT rated\n",
        "unrated_indices = np.where(actual_ratings == 0)[0]\n",
        "\n",
        "# Recommend top N items\n",
        "N = 5\n",
        "recommended_indices = unrated_indices[np.argsort(predicted_ratings[unrated_indices])[::-1][:N]]\n",
        "\n",
        "print(f\"Top {N} recommendations for User {user_index + 1}:\")\n",
        "for idx in recommended_indices:\n",
        "    print(f\"Item {small_matrix.columns[idx]} - Predicted Rating: {predicted_ratings[idx]:.2f}\")\n"
      ],
      "metadata": {
        "colab": {
          "base_uri": "https://localhost:8080/"
        },
        "id": "TN6HJdRauIJH",
        "outputId": "60f8b3de-4cc4-4438-c4a3-5a21d07c8bc9"
      },
      "execution_count": null,
      "outputs": [
        {
          "output_type": "stream",
          "name": "stdout",
          "text": [
            "Top 5 recommendations for User 1:\n",
            "Item 313 - Predicted Rating: 2.83\n",
            "Item 1 - Predicted Rating: 2.82\n",
            "Item 117 - Predicted Rating: 1.85\n",
            "Item 222 - Predicted Rating: 0.81\n",
            "Item 748 - Predicted Rating: 0.46\n"
          ]
        }
      ]
    },
    {
      "cell_type": "markdown",
      "source": [
        "## Step 5: Evaluate Overall Model Performance\n",
        "We'll use Root Mean Squared Error (RMSE) to measure how close the reconstructed matrix $\\hat{R}_{k}$ is to the original ratings (only for the non-zero enteries)\n",
        "\n",
        "RMSE Formular\n",
        "\n",
        "$$\n",
        "\\text{RMSE} = \\sqrt{\\frac{1}{|M|} \\sum_{(i,j) \\in M} (R_{ij} - \\hat{R}_{ij})^2}\n",
        "$$\n",
        "\n",
        "Where;\n",
        "* M = set of indices wiht original ratings ie $$R_{ij} \\neq 0$$\n",
        "*$$R_{ij}$$ = predicted rating from  $$R_{approx}$$\n",
        "\n",
        "\n",
        "\n",
        "\n"
      ],
      "metadata": {
        "id": "EPDCeQStwoPn"
      }
    },
    {
      "cell_type": "code",
      "source": [
        "from sklearn.metrics import mean_squared_error\n",
        "from math import sqrt\n",
        "\n",
        "# Flatten both matrices and filter out the zero entries in original\n",
        "original = R_small.flatten()\n",
        "predicted = R_approx.flatten()\n",
        "\n",
        "# Only evaluate where original rating is non-zero\n",
        "mask = original > 0\n",
        "rmse = sqrt(mean_squared_error(original[mask], predicted[mask]))\n",
        "\n",
        "print(f\"RMSE on known ratings: {rmse:.4f}\")\n"
      ],
      "metadata": {
        "colab": {
          "base_uri": "https://localhost:8080/"
        },
        "id": "vuwh9SBnv8vh",
        "outputId": "0c0dd6d4-aaf0-4651-d352-e06e41fe9c0c"
      },
      "execution_count": null,
      "outputs": [
        {
          "output_type": "stream",
          "name": "stdout",
          "text": [
            "RMSE on known ratings: 0.8026\n"
          ]
        }
      ]
    },
    {
      "cell_type": "markdown",
      "source": [
        "## Step 6: RMSE vs. Number of Components k\n",
        "In this step we\n",
        "\n",
        "*   Write a function that loops over values of k\n",
        "*   Compute RMSE for each reconstructed matrix\n",
        "*   Plot RMSE vs K\n",
        "\n"
      ],
      "metadata": {
        "id": "4kklEdnfKevk"
      }
    },
    {
      "cell_type": "code",
      "source": [
        "def compute_rmse_vs_k(R, k_values):\n",
        "    rmse_scores = []\n",
        "\n",
        "    for k in k_values:\n",
        "        # Full SVD\n",
        "        U, sigma, Vt = np.linalg.svd(R, full_matrices=False)\n",
        "        Sigma = np.diag(sigma)\n",
        "\n",
        "        # Truncate matrices to k components\n",
        "        U_k = U[:, :k]\n",
        "        Sigma_k = Sigma[:k, :k]\n",
        "        Vt_k = Vt[:k, :]\n",
        "\n",
        "        # Reconstruct the matrix\n",
        "        R_k = np.dot(np.dot(U_k, Sigma_k), Vt_k)\n",
        "\n",
        "        # Compute RMSE on known ratings\n",
        "        original = R.flatten()\n",
        "        predicted = R_k.flatten()\n",
        "        mask = original > 0\n",
        "        rmse = np.sqrt(mean_squared_error(original[mask], predicted[mask]))\n",
        "        rmse_scores.append(rmse)\n",
        "\n",
        "    return rmse_scores\n"
      ],
      "metadata": {
        "id": "QvyJ_lTRz3q9"
      },
      "execution_count": null,
      "outputs": []
    },
    {
      "cell_type": "markdown",
      "source": [
        "### Plot the RMSE vs. K"
      ],
      "metadata": {
        "id": "dquZJrbSKMBc"
      }
    },
    {
      "cell_type": "code",
      "source": [
        "k_range = list(range(2, 21))\n",
        "rmse_results = compute_rmse_vs_k(R_small, k_range)\n",
        "\n",
        "# Plot\n",
        "plt.figure(figsize=(8, 5))\n",
        "plt.plot(k_range, rmse_results, marker='o', linestyle='--', color='blue')\n",
        "plt.title(\"RMSE vs. Number of Latent Features (k)\")\n",
        "plt.xlabel(\"Number of Components (k)\")\n",
        "plt.ylabel(\"RMSE on Known Ratings\")\n",
        "plt.grid(True)\n",
        "plt.show()\n"
      ],
      "metadata": {
        "colab": {
          "base_uri": "https://localhost:8080/",
          "height": 487
        },
        "id": "-YHGUxP01cBm",
        "outputId": "b1c7d93c-121e-418d-895c-c5de9513293b"
      },
      "execution_count": null,
      "outputs": [
        {
          "output_type": "display_data",
          "data": {
            "text/plain": [
              "<Figure size 800x500 with 1 Axes>"
            ],
            "image/png": "[encoded data removed]"
          },
          "metadata": {}
        }
      ]
    },
    {
      "cell_type": "markdown",
      "source": [
        "## Interpretation\n",
        "It is observed from the graph that,\n",
        "* RMSE decreases consistently as k increases from 2 to 20\n",
        "* This shows that more latent features capture more complex relationships between users and items\n",
        "* However, after a point (around k=15), the improvements start to diminish, indicating a dimishing return - classic bias-variance tradeoff"
      ],
      "metadata": {
        "id": "fmdND7x2J4pi"
      }
    },
    {
      "cell_type": "markdown",
      "source": [
        "References\n",
        "\n",
        "* Koren, Y., Bell, R., & Volinsky, C. (2009). Matrix factorization techniques for recommender systems. Computer, 42(8), 30-37.\n",
        "\n",
        "* Simon Funk. (2006). Netflix Update: Try This at Home.\n",
        "\n",
        "* MovieLens Dataset: https://grouplens.org/datasets/movielens/\n",
        "\n",
        "* Golub, G. H., & Van Loan, C. F. (2013). Matrix Computations.\n",
        "\n",
        "* Scikit-learn Documentation: https://scikit-learn.org/\n",
        "\n",
        "* NumPy SVD: https://numpy.org/doc/stable/reference/generated/numpy.linalg.svd.html"
      ],
      "metadata": {
        "id": "uTIQZtITQwAK"
      }
    },
    {
      "cell_type": "code",
      "source": [],
      "metadata": {
        "id": "kdmpPqZq1d5R"
      },
      "execution_count": null,
      "outputs": []
    }
  ]
}